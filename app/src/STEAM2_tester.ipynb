{
 "cells": [
  {
   "cell_type": "code",
   "execution_count": 1,
   "metadata": {},
   "outputs": [],
   "source": [
    "import pandas as pd"
   ]
  },
  {
   "cell_type": "code",
   "execution_count": 2,
   "metadata": {},
   "outputs": [],
   "source": [
    "from  shared.models.steam2 import *"
   ]
  },
  {
   "cell_type": "code",
   "execution_count": 3,
   "metadata": {},
   "outputs": [],
   "source": [
    "df = pd.read_csv(\"test/abel_matutes_STEAM2.csv\")"
   ]
  },
  {
   "cell_type": "code",
   "execution_count": 4,
   "metadata": {},
   "outputs": [
    {
     "data": {
      "text/html": [
       "<div>\n",
       "<style scoped>\n",
       "    .dataframe tbody tr th:only-of-type {\n",
       "        vertical-align: middle;\n",
       "    }\n",
       "\n",
       "    .dataframe tbody tr th {\n",
       "        vertical-align: top;\n",
       "    }\n",
       "\n",
       "    .dataframe thead th {\n",
       "        text-align: right;\n",
       "    }\n",
       "</style>\n",
       "<table border=\"1\" class=\"dataframe\">\n",
       "  <thead>\n",
       "    <tr style=\"text-align: right;\">\n",
       "      <th></th>\n",
       "      <th>Unnamed: 0</th>\n",
       "      <th>l</th>\n",
       "      <th>b</th>\n",
       "      <th>t</th>\n",
       "      <th>qpc</th>\n",
       "      <th>wet_surf_k</th>\n",
       "      <th>wet_surf_a3</th>\n",
       "      <th>cr_nofn</th>\n",
       "      <th>n_screw</th>\n",
       "      <th>n_cabin</th>\n",
       "      <th>...</th>\n",
       "      <th>co2_fact_me</th>\n",
       "      <th>co2_fact_ae</th>\n",
       "      <th>nox_fact_me</th>\n",
       "      <th>nox_fact_ae</th>\n",
       "      <th>sox_me</th>\n",
       "      <th>sox_ae</th>\n",
       "      <th>co2_me</th>\n",
       "      <th>co2_ae</th>\n",
       "      <th>nox_me</th>\n",
       "      <th>nox_ae</th>\n",
       "    </tr>\n",
       "  </thead>\n",
       "  <tbody>\n",
       "    <tr>\n",
       "      <th>0</th>\n",
       "      <td>0</td>\n",
       "      <td>190.5</td>\n",
       "      <td>26.0</td>\n",
       "      <td>6.3</td>\n",
       "      <td>0.600526</td>\n",
       "      <td>2307.281738</td>\n",
       "      <td>4331.829102</td>\n",
       "      <td>0.654888</td>\n",
       "      <td>2</td>\n",
       "      <td>96</td>\n",
       "      <td>...</td>\n",
       "      <td>517.04</td>\n",
       "      <td>517.04</td>\n",
       "      <td>12.984299</td>\n",
       "      <td>12.912785</td>\n",
       "      <td>5557.714</td>\n",
       "      <td>0.956272</td>\n",
       "      <td>8664305.0</td>\n",
       "      <td>1490.7986</td>\n",
       "      <td>217584.56</td>\n",
       "      <td>37.23186</td>\n",
       "    </tr>\n",
       "    <tr>\n",
       "      <th>1</th>\n",
       "      <td>1</td>\n",
       "      <td>190.5</td>\n",
       "      <td>26.0</td>\n",
       "      <td>6.3</td>\n",
       "      <td>0.600526</td>\n",
       "      <td>2307.281738</td>\n",
       "      <td>4331.829102</td>\n",
       "      <td>0.654888</td>\n",
       "      <td>2</td>\n",
       "      <td>96</td>\n",
       "      <td>...</td>\n",
       "      <td>517.04</td>\n",
       "      <td>517.04</td>\n",
       "      <td>12.984299</td>\n",
       "      <td>12.912785</td>\n",
       "      <td>5593.471</td>\n",
       "      <td>0.956272</td>\n",
       "      <td>8720049.0</td>\n",
       "      <td>1490.7986</td>\n",
       "      <td>218984.47</td>\n",
       "      <td>37.23186</td>\n",
       "    </tr>\n",
       "    <tr>\n",
       "      <th>2</th>\n",
       "      <td>2</td>\n",
       "      <td>190.5</td>\n",
       "      <td>26.0</td>\n",
       "      <td>6.3</td>\n",
       "      <td>0.600526</td>\n",
       "      <td>2307.281738</td>\n",
       "      <td>4331.829102</td>\n",
       "      <td>0.654888</td>\n",
       "      <td>2</td>\n",
       "      <td>96</td>\n",
       "      <td>...</td>\n",
       "      <td>517.04</td>\n",
       "      <td>517.04</td>\n",
       "      <td>12.984299</td>\n",
       "      <td>12.912785</td>\n",
       "      <td>5522.108</td>\n",
       "      <td>0.956272</td>\n",
       "      <td>8608796.0</td>\n",
       "      <td>1490.7986</td>\n",
       "      <td>216190.60</td>\n",
       "      <td>37.23186</td>\n",
       "    </tr>\n",
       "    <tr>\n",
       "      <th>3</th>\n",
       "      <td>3</td>\n",
       "      <td>190.5</td>\n",
       "      <td>26.0</td>\n",
       "      <td>6.3</td>\n",
       "      <td>0.600526</td>\n",
       "      <td>2307.281738</td>\n",
       "      <td>4331.829102</td>\n",
       "      <td>0.654888</td>\n",
       "      <td>2</td>\n",
       "      <td>96</td>\n",
       "      <td>...</td>\n",
       "      <td>517.04</td>\n",
       "      <td>517.04</td>\n",
       "      <td>12.984299</td>\n",
       "      <td>12.912785</td>\n",
       "      <td>5579.700</td>\n",
       "      <td>0.956272</td>\n",
       "      <td>8698581.0</td>\n",
       "      <td>1490.7986</td>\n",
       "      <td>218445.33</td>\n",
       "      <td>37.23186</td>\n",
       "    </tr>\n",
       "    <tr>\n",
       "      <th>4</th>\n",
       "      <td>4</td>\n",
       "      <td>190.5</td>\n",
       "      <td>26.0</td>\n",
       "      <td>6.3</td>\n",
       "      <td>0.600526</td>\n",
       "      <td>2307.281738</td>\n",
       "      <td>4331.829102</td>\n",
       "      <td>0.654888</td>\n",
       "      <td>2</td>\n",
       "      <td>96</td>\n",
       "      <td>...</td>\n",
       "      <td>517.04</td>\n",
       "      <td>517.04</td>\n",
       "      <td>12.984299</td>\n",
       "      <td>12.912785</td>\n",
       "      <td>5522.108</td>\n",
       "      <td>0.956272</td>\n",
       "      <td>8608796.0</td>\n",
       "      <td>1490.7986</td>\n",
       "      <td>216190.60</td>\n",
       "      <td>37.23186</td>\n",
       "    </tr>\n",
       "    <tr>\n",
       "      <th>...</th>\n",
       "      <td>...</td>\n",
       "      <td>...</td>\n",
       "      <td>...</td>\n",
       "      <td>...</td>\n",
       "      <td>...</td>\n",
       "      <td>...</td>\n",
       "      <td>...</td>\n",
       "      <td>...</td>\n",
       "      <td>...</td>\n",
       "      <td>...</td>\n",
       "      <td>...</td>\n",
       "      <td>...</td>\n",
       "      <td>...</td>\n",
       "      <td>...</td>\n",
       "      <td>...</td>\n",
       "      <td>...</td>\n",
       "      <td>...</td>\n",
       "      <td>...</td>\n",
       "      <td>...</td>\n",
       "      <td>...</td>\n",
       "      <td>...</td>\n",
       "    </tr>\n",
       "    <tr>\n",
       "      <th>33483</th>\n",
       "      <td>33483</td>\n",
       "      <td>190.5</td>\n",
       "      <td>26.0</td>\n",
       "      <td>6.3</td>\n",
       "      <td>0.600526</td>\n",
       "      <td>2307.281738</td>\n",
       "      <td>4331.829102</td>\n",
       "      <td>0.654888</td>\n",
       "      <td>2</td>\n",
       "      <td>96</td>\n",
       "      <td>...</td>\n",
       "      <td>517.04</td>\n",
       "      <td>517.04</td>\n",
       "      <td>12.984299</td>\n",
       "      <td>12.912785</td>\n",
       "      <td>6034.466</td>\n",
       "      <td>0.956272</td>\n",
       "      <td>9407547.0</td>\n",
       "      <td>1490.7986</td>\n",
       "      <td>236249.42</td>\n",
       "      <td>37.23186</td>\n",
       "    </tr>\n",
       "    <tr>\n",
       "      <th>33484</th>\n",
       "      <td>33484</td>\n",
       "      <td>190.5</td>\n",
       "      <td>26.0</td>\n",
       "      <td>6.3</td>\n",
       "      <td>0.600526</td>\n",
       "      <td>2307.281738</td>\n",
       "      <td>4331.829102</td>\n",
       "      <td>0.654888</td>\n",
       "      <td>2</td>\n",
       "      <td>96</td>\n",
       "      <td>...</td>\n",
       "      <td>517.04</td>\n",
       "      <td>517.04</td>\n",
       "      <td>12.984299</td>\n",
       "      <td>12.912785</td>\n",
       "      <td>6034.466</td>\n",
       "      <td>0.956272</td>\n",
       "      <td>9407547.0</td>\n",
       "      <td>1490.7986</td>\n",
       "      <td>236249.42</td>\n",
       "      <td>37.23186</td>\n",
       "    </tr>\n",
       "    <tr>\n",
       "      <th>33485</th>\n",
       "      <td>33485</td>\n",
       "      <td>190.5</td>\n",
       "      <td>26.0</td>\n",
       "      <td>6.3</td>\n",
       "      <td>0.600526</td>\n",
       "      <td>2307.281738</td>\n",
       "      <td>4331.829102</td>\n",
       "      <td>0.654888</td>\n",
       "      <td>2</td>\n",
       "      <td>96</td>\n",
       "      <td>...</td>\n",
       "      <td>517.04</td>\n",
       "      <td>517.04</td>\n",
       "      <td>12.984299</td>\n",
       "      <td>12.912785</td>\n",
       "      <td>6034.466</td>\n",
       "      <td>0.956272</td>\n",
       "      <td>9407547.0</td>\n",
       "      <td>1490.7986</td>\n",
       "      <td>236249.42</td>\n",
       "      <td>37.23186</td>\n",
       "    </tr>\n",
       "    <tr>\n",
       "      <th>33486</th>\n",
       "      <td>33486</td>\n",
       "      <td>190.5</td>\n",
       "      <td>26.0</td>\n",
       "      <td>6.3</td>\n",
       "      <td>0.600526</td>\n",
       "      <td>2307.281738</td>\n",
       "      <td>4331.829102</td>\n",
       "      <td>0.654888</td>\n",
       "      <td>2</td>\n",
       "      <td>96</td>\n",
       "      <td>...</td>\n",
       "      <td>517.04</td>\n",
       "      <td>517.04</td>\n",
       "      <td>12.984299</td>\n",
       "      <td>12.912785</td>\n",
       "      <td>6034.466</td>\n",
       "      <td>0.956272</td>\n",
       "      <td>9407547.0</td>\n",
       "      <td>1490.7986</td>\n",
       "      <td>236249.42</td>\n",
       "      <td>37.23186</td>\n",
       "    </tr>\n",
       "    <tr>\n",
       "      <th>33487</th>\n",
       "      <td>33487</td>\n",
       "      <td>190.5</td>\n",
       "      <td>26.0</td>\n",
       "      <td>6.3</td>\n",
       "      <td>0.600526</td>\n",
       "      <td>2307.281738</td>\n",
       "      <td>4331.829102</td>\n",
       "      <td>0.654888</td>\n",
       "      <td>2</td>\n",
       "      <td>96</td>\n",
       "      <td>...</td>\n",
       "      <td>517.04</td>\n",
       "      <td>517.04</td>\n",
       "      <td>12.984299</td>\n",
       "      <td>12.912785</td>\n",
       "      <td>6034.466</td>\n",
       "      <td>0.956272</td>\n",
       "      <td>9407547.0</td>\n",
       "      <td>1490.7986</td>\n",
       "      <td>236249.42</td>\n",
       "      <td>37.23186</td>\n",
       "    </tr>\n",
       "  </tbody>\n",
       "</table>\n",
       "<p>33488 rows × 44 columns</p>\n",
       "</div>"
      ],
      "text/plain": [
       "       Unnamed: 0      l     b    t       qpc   wet_surf_k  wet_surf_a3  \\\n",
       "0               0  190.5  26.0  6.3  0.600526  2307.281738  4331.829102   \n",
       "1               1  190.5  26.0  6.3  0.600526  2307.281738  4331.829102   \n",
       "2               2  190.5  26.0  6.3  0.600526  2307.281738  4331.829102   \n",
       "3               3  190.5  26.0  6.3  0.600526  2307.281738  4331.829102   \n",
       "4               4  190.5  26.0  6.3  0.600526  2307.281738  4331.829102   \n",
       "...           ...    ...   ...  ...       ...          ...          ...   \n",
       "33483       33483  190.5  26.0  6.3  0.600526  2307.281738  4331.829102   \n",
       "33484       33484  190.5  26.0  6.3  0.600526  2307.281738  4331.829102   \n",
       "33485       33485  190.5  26.0  6.3  0.600526  2307.281738  4331.829102   \n",
       "33486       33486  190.5  26.0  6.3  0.600526  2307.281738  4331.829102   \n",
       "33487       33487  190.5  26.0  6.3  0.600526  2307.281738  4331.829102   \n",
       "\n",
       "        cr_nofn  n_screw  n_cabin  ...  co2_fact_me  co2_fact_ae  nox_fact_me  \\\n",
       "0      0.654888        2       96  ...       517.04       517.04    12.984299   \n",
       "1      0.654888        2       96  ...       517.04       517.04    12.984299   \n",
       "2      0.654888        2       96  ...       517.04       517.04    12.984299   \n",
       "3      0.654888        2       96  ...       517.04       517.04    12.984299   \n",
       "4      0.654888        2       96  ...       517.04       517.04    12.984299   \n",
       "...         ...      ...      ...  ...          ...          ...          ...   \n",
       "33483  0.654888        2       96  ...       517.04       517.04    12.984299   \n",
       "33484  0.654888        2       96  ...       517.04       517.04    12.984299   \n",
       "33485  0.654888        2       96  ...       517.04       517.04    12.984299   \n",
       "33486  0.654888        2       96  ...       517.04       517.04    12.984299   \n",
       "33487  0.654888        2       96  ...       517.04       517.04    12.984299   \n",
       "\n",
       "      nox_fact_ae    sox_me    sox_ae     co2_me     co2_ae     nox_me  \\\n",
       "0       12.912785  5557.714  0.956272  8664305.0  1490.7986  217584.56   \n",
       "1       12.912785  5593.471  0.956272  8720049.0  1490.7986  218984.47   \n",
       "2       12.912785  5522.108  0.956272  8608796.0  1490.7986  216190.60   \n",
       "3       12.912785  5579.700  0.956272  8698581.0  1490.7986  218445.33   \n",
       "4       12.912785  5522.108  0.956272  8608796.0  1490.7986  216190.60   \n",
       "...           ...       ...       ...        ...        ...        ...   \n",
       "33483   12.912785  6034.466  0.956272  9407547.0  1490.7986  236249.42   \n",
       "33484   12.912785  6034.466  0.956272  9407547.0  1490.7986  236249.42   \n",
       "33485   12.912785  6034.466  0.956272  9407547.0  1490.7986  236249.42   \n",
       "33486   12.912785  6034.466  0.956272  9407547.0  1490.7986  236249.42   \n",
       "33487   12.912785  6034.466  0.956272  9407547.0  1490.7986  236249.42   \n",
       "\n",
       "         nox_ae  \n",
       "0      37.23186  \n",
       "1      37.23186  \n",
       "2      37.23186  \n",
       "3      37.23186  \n",
       "4      37.23186  \n",
       "...         ...  \n",
       "33483  37.23186  \n",
       "33484  37.23186  \n",
       "33485  37.23186  \n",
       "33486  37.23186  \n",
       "33487  37.23186  \n",
       "\n",
       "[33488 rows x 44 columns]"
      ]
     },
     "execution_count": 4,
     "metadata": {},
     "output_type": "execute_result"
    }
   ],
   "source": [
    "df"
   ]
  },
  {
   "cell_type": "code",
   "execution_count": 5,
   "metadata": {},
   "outputs": [],
   "source": [
    "row = df.iloc[0]"
   ]
  },
  {
   "cell_type": "code",
   "execution_count": 6,
   "metadata": {},
   "outputs": [
    {
     "data": {
      "text/plain": [
       "Unnamed: 0                               0\n",
       "l                                    190.5\n",
       "b                                       26\n",
       "t                                      6.3\n",
       "qpc                               0.600526\n",
       "wet_surf_k                         2307.28\n",
       "wet_surf_a3                        4331.83\n",
       "cr_nofn                           0.654888\n",
       "n_screw                                  2\n",
       "n_cabin                                 96\n",
       "n_ref_teu                                0\n",
       "design_draft                          True\n",
       "waterline                           183.75\n",
       "type            Passenger/Ro-Ro Cargo Ship\n",
       "me_rpm                                 500\n",
       "ae_rpm                                 514\n",
       "inst_pow_me                          18006\n",
       "inst_pow_ae                           3420\n",
       "design_speed                          21.4\n",
       "sfoc_me                                166\n",
       "sfoc_ae                                166\n",
       "time                            1452962240\n",
       "latitude                           40.7615\n",
       "longitude                            2.219\n",
       "sog                                19.7429\n",
       "imo                                9441130\n",
       "d_lat                                    0\n",
       "d_lon                                    0\n",
       "amp_v                                    0\n",
       "trans_p_me                     6.03270e+06\n",
       "model                                    2\n",
       "trans_p_ae                            1038\n",
       "sox_fact_me                       0.331655\n",
       "sox_fact_ae                       0.331655\n",
       "co2_fact_me                         517.04\n",
       "co2_fact_ae                         517.04\n",
       "nox_fact_me                        12.9843\n",
       "nox_fact_ae                        12.9128\n",
       "sox_me                             5557.71\n",
       "sox_ae                            0.956272\n",
       "co2_me                         8.66430e+06\n",
       "co2_ae                              1490.8\n",
       "nox_me                              217585\n",
       "nox_ae                             37.2319\n",
       "Name: 0, dtype: object"
      ]
     },
     "execution_count": 6,
     "metadata": {},
     "output_type": "execute_result"
    }
   ],
   "source": [
    "row"
   ]
  },
  {
   "cell_type": "code",
   "execution_count": 7,
   "metadata": {},
   "outputs": [],
   "source": [
    "knot_speed = row['sog']\n",
    "v_design = row['design_speed']\n",
    "inst_pow = row['inst_pow_me']\n",
    "L = row['l']\n",
    "b = row['b']\n",
    "t = row['t']\n",
    "qpc = row['qpc']\n",
    "k_area = row['wet_surf_k']\n",
    "a3_area = row['wet_surf_a3']\n",
    "cr_nofn = row['cr_nofn']\n",
    "n_screw = row['n_screw']\n",
    "design_draft = row['design_draft']\n",
    "waterline = row['waterline']\n",
    "v_safety = 0.5,\n",
    "sea_dens = 1038"
   ]
  },
  {
   "cell_type": "code",
   "execution_count": 8,
   "metadata": {},
   "outputs": [],
   "source": [
    "# Limit speed\n",
    "if knot_speed > (v_safety + v_design):\n",
    "    knot_speed = (v_design + v_safety)\n",
    "if knot_speed < 0:\n",
    "    knot_speed = 0\n",
    "\n",
    "# STEAM2\n",
    "ms_speed = knot_speed * 0.514\n",
    "fn = calc_froude_number(ms_speed, waterline)\n",
    "cb = calc_block_coeff(fn)\n",
    "cr = estimate_resistance_coef(fn, cb, cr_nofn, n_screw,\n",
    "                              design_draft)\n",
    "wet_surf = estimate_wet_surf(k_area, a3_area, cb)\n",
    "reynolds_n = calc_reynolds_number(ms_speed, L)\n",
    "fric_r = calc_frictional_resistance(reynolds_n, sea_dens, ms_speed,\n",
    "                                    wet_surf)\n",
    "\n",
    "res_r = calc_residual_resistance(cr, sea_dens, b, t, ms_speed)\n",
    "total_res = calc_total_resistance(fric_r, res_r)\n",
    "propel_power = calc_propelling_power(total_res, ms_speed)\n",
    "pow = estimate_main_engine_power(ms_speed, total_res, qpc)\n",
    "#pow = min(inst_pow, pow)  # Limit to installed power"
   ]
  },
  {
   "cell_type": "code",
   "execution_count": 9,
   "metadata": {
    "scrolled": true
   },
   "outputs": [
    {
     "data": {
      "text/plain": [
       "397145.2089485158"
      ]
     },
     "execution_count": 9,
     "metadata": {},
     "output_type": "execute_result"
    }
   ],
   "source": [
    "fric_r"
   ]
  },
  {
   "cell_type": "code",
   "execution_count": 10,
   "metadata": {},
   "outputs": [
    {
     "data": {
      "text/plain": [
       "400657.51149230415"
      ]
     },
     "execution_count": 10,
     "metadata": {},
     "output_type": "execute_result"
    }
   ],
   "source": [
    "res_r"
   ]
  },
  {
   "cell_type": "code",
   "execution_count": 11,
   "metadata": {
    "scrolled": true
   },
   "outputs": [
    {
     "data": {
      "text/plain": [
       "797802.72044082"
      ]
     },
     "execution_count": 11,
     "metadata": {},
     "output_type": "execute_result"
    }
   ],
   "source": [
    "total_res"
   ]
  },
  {
   "cell_type": "code",
   "execution_count": 12,
   "metadata": {},
   "outputs": [
    {
     "data": {
      "text/plain": [
       "8095965.18227128"
      ]
     },
     "execution_count": 12,
     "metadata": {},
     "output_type": "execute_result"
    }
   ],
   "source": [
    "propel_power"
   ]
  },
  {
   "cell_type": "code",
   "execution_count": 13,
   "metadata": {},
   "outputs": [
    {
     "data": {
      "text/plain": [
       "397145.2089485158"
      ]
     },
     "execution_count": 13,
     "metadata": {},
     "output_type": "execute_result"
    }
   ],
   "source": [
    "fric_r"
   ]
  },
  {
   "cell_type": "code",
   "execution_count": 14,
   "metadata": {},
   "outputs": [
    {
     "data": {
      "text/plain": [
       "797802.72044082"
      ]
     },
     "execution_count": 14,
     "metadata": {},
     "output_type": "execute_result"
    }
   ],
   "source": [
    "total_res"
   ]
  },
  {
   "cell_type": "code",
   "execution_count": 18,
   "metadata": {},
   "outputs": [],
   "source": [
    "propel_power = calc_propelling_power(total_res/(1000), ms_speed)"
   ]
  },
  {
   "cell_type": "code",
   "execution_count": 19,
   "metadata": {},
   "outputs": [
    {
     "data": {
      "text/plain": [
       "13481.466482964928"
      ]
     },
     "execution_count": 19,
     "metadata": {},
     "output_type": "execute_result"
    }
   ],
   "source": [
    "propel_power/qpc"
   ]
  },
  {
   "cell_type": "code",
   "execution_count": null,
   "metadata": {},
   "outputs": [],
   "source": []
  }
 ],
 "metadata": {
  "jupytext": {
   "cell_metadata_filter": "-all",
   "notebook_metadata_filter": "-all"
  },
  "kernelspec": {
   "display_name": "Python 3",
   "language": "python",
   "name": "python3"
  },
  "language_info": {
   "codemirror_mode": {
    "name": "ipython",
    "version": 3
   },
   "file_extension": ".py",
   "mimetype": "text/x-python",
   "name": "python",
   "nbconvert_exporter": "python",
   "pygments_lexer": "ipython3",
   "version": "3.6.8"
  },
  "toc": {
   "base_numbering": 1,
   "nav_menu": {},
   "number_sections": true,
   "sideBar": false,
   "skip_h1_title": false,
   "title_cell": "Table of Contents",
   "title_sidebar": "Contents",
   "toc_cell": false,
   "toc_position": {},
   "toc_section_display": true,
   "toc_window_display": false
  }
 },
 "nbformat": 4,
 "nbformat_minor": 4
}
